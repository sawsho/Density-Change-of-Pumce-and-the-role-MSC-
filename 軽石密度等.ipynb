{
 "cells": [
  {
   "cell_type": "code",
   "execution_count": null,
   "id": "928f3d17",
   "metadata": {},
   "outputs": [],
   "source": [
    "import pandas as pd\n",
    "import numpy as np\n",
    "import matplotlib.pyplot as plt\n",
    "from scipy.optimize import curve_fit\n",
    "import sklearn.metrics as metrics"
   ]
  },
  {
   "cell_type": "code",
   "execution_count": null,
   "id": "cbb5b258-eb4e-43b9-95db-29f3dd67d9b4",
   "metadata": {},
   "outputs": [],
   "source": [
    "#体積×質量\n",
    "def M0_(v, sigma0):\n",
    "    val = sigma0*v\n",
    "    return val"
   ]
  },
  {
   "cell_type": "code",
   "execution_count": null,
   "id": "76af836b-4d91-4796-bc3f-ed80b6a3ac46",
   "metadata": {},
   "outputs": [],
   "source": [
    "#体積×質量\n",
    "def M0_(v, sigma0):\n",
    "    val = sigma0*v\n",
    "    return val"
   ]
  },
  {
   "cell_type": "code",
   "execution_count": null,
   "id": "b9a348b9-79bb-4852-a44f-2b18690b135e",
   "metadata": {},
   "outputs": [],
   "source": [
    "#表面積×質量\n",
    "def M0(x):\n",
    "    return M0_(V(x))"
   ]
  },
  {
   "cell_type": "code",
   "execution_count": null,
   "id": "4f783870-2d36-4b62-b995-93338783a1ab",
   "metadata": {},
   "outputs": [],
   "source": [
    "def MV(input_path, output_path):\n",
    "    \"\"\n",
    "    \"質量×体積（密度）関係を出力\"\n",
    "    \"インプット：入力/出力パス\"\n",
    "    \"アウトプット：密度\"\n",
    "    \"\"\n",
    "    #データ読み込み\n",
    "    data = pd.read_csv(input_path)\n",
    "    x = data['vol']\n",
    "    y = data['0']\n",
    "\n",
    "    #フィッテイング\n",
    "    popt, pcov = curve_fit(M0_, x, y)\n",
    "    y_est = M0_(x, popt[0])\n",
    "\n",
    "    #可視化\n",
    "    fig = plt.figure(figsize = (8, 5))\n",
    "    plt.rcParams[\"font.size\"] = 25\n",
    "    plt.rcParams[\"font.family\"] = \"Times New Roman\"\n",
    "    \n",
    "    plt.scatter(x, y, c = \"black\")\n",
    "    plt.plot([i for i in np.arange(min(x), max(x))], [M0_(j, popt[0]) for j in np.arange(min(x), max(x))], c = \"black\")\n",
    "    #plt.xlim(0, 40)\n",
    "    #plt.ylim(0, 30)\n",
    "    \n",
    "    plt.xlabel('Volume [$cm^3$]')\n",
    "    plt.ylabel('Mass [g]')\n",
    "    plt.title('M-V (density)')\n",
    "    \n",
    "    plt.savefig(output_path, bbox_inches='tight')\n",
    "\n",
    "    return \"σ= \", popt[0], \"R²= \", metrics.r2_score(y, y_est)"
   ]
  },
  {
   "cell_type": "code",
   "execution_count": null,
   "id": "be7ad9dc-5f66-4285-8e1b-b4aacca6526c",
   "metadata": {},
   "outputs": [],
   "source": [
    "def Vx(input_path, output_path):\n",
    "    \"\"\n",
    "    \"体積×表面積関係を出力\"\n",
    "    \"インプット：入力/出力パス\"\n",
    "    \"アウトプット：係数a, b\"\n",
    "    \"\"\n",
    "    #データ読み込み\n",
    "    data = pd.read_csv(input_path)\n",
    "    x = data['s']\n",
    "    y = data['vol']\n",
    "\n",
    "    #フィッティング\n",
    "    popt, pcov = curve_fit(V, x, y)\n",
    "    y_est = V(x, popt[0], popt[1])\n",
    "\n",
    "    #可視化\n",
    "    fig = plt.figure(figsize = (8, 5))\n",
    "    plt.rcParams[\"font.size\"] = 25\n",
    "    plt.rcParams[\"font.family\"] = \"Times New Roman\"\n",
    "    \n",
    "    plt.scatter(x, y, c = \"black\")\n",
    "    plt.plot(\n",
    "        [i for i in np.arange(min(x), max(x))], \n",
    "        [V(j, popt[0], popt[1]) for j in np.arange(min(x), max(x))], \n",
    "        c = \"black\"\n",
    "    )\n",
    "    \n",
    "    plt.xlabel('Volume [$cm^3$]')\n",
    "    plt.ylabel('Surface Area [$cm^2$]')\n",
    "    plt.title('V-x')\n",
    "    \n",
    "    plt.savefig(output_path, bbox_inches='tight')\n",
    "    \n",
    "    return \"a, b= \", popt[0], popt[1], \"R²= \", metrics.r2_score(y, y_est)"
   ]
  },
  {
   "cell_type": "code",
   "execution_count": null,
   "id": "11e45034-27a0-4c0a-8e85-cacdad0ec9a4",
   "metadata": {},
   "outputs": [],
   "source": [
    "def Mx(input_path, output_path1, output_path2, out_path3):\n",
    "    \"\"\n",
    "    \"質量×表面積関係を出力\"\n",
    "    \"インプット：入力/出力パス\"\n",
    "    \"アウトプット：係数a, b\"\n",
    "    \"\"\n",
    "    #データ読み込み\n",
    "    data = pd.read_csv(input_path)\n",
    "    x = data['s']\n",
    "    y = data['0']\n",
    "    sigma0 = MV(input_path, output_path1)[1]\n",
    "    k_Vx = Vx(input_path, output_path2)\n",
    "    a, b = sigma0*k_Vx[1], sigma0*k_Vx[2]\n",
    "\n",
    "    #フィッティング\n",
    "    y_est = [M0(i) for i in x]\n",
    "\n",
    "    #可視化\n",
    "    fig = plt.figure(figsize = (8, 5))\n",
    "    plt.rcParams[\"font.size\"] = 25\n",
    "    plt.rcParams[\"font.family\"] = \"Times New Roman\"\n",
    "    \n",
    "    plt.scatter(x, y, c = \"black\")\n",
    "    plt.plot(\n",
    "             [i for i in np.arange(min(x), max(x))], \n",
    "             [M0(i) for i in np.arange(min(x), max(x))], \n",
    "             c = \"black\"\n",
    "            )\n",
    "    \n",
    "    plt.xlabel('Surface area [$cm^2$]')\n",
    "    plt.ylabel('Mass [g]')\n",
    "    \n",
    "    plt.title('M-x')\n",
    "    \n",
    "    plt.savefig(output_path3, bbox_inches='tight')\n",
    "    return \"a, b= \", a, b, \"R²= \", metrics.r2_score(y, y_est)"
   ]
  },
  {
   "cell_type": "code",
   "execution_count": null,
   "id": "1e19657f-bb6a-4e1b-aa86-97899b2fe42a",
   "metadata": {},
   "outputs": [],
   "source": []
  },
  {
   "cell_type": "code",
   "execution_count": null,
   "id": "f8d83d7f-c0c1-461c-9955-cfe5578cda73",
   "metadata": {},
   "outputs": [],
   "source": [
    "#入力/出力ファイルを指定\n",
    "input_path = r\"入力パス\"\n",
    "output_path_1 = r\"出力パス１\"\n",
    "output_path_2 = r\"出力パス２\"\n",
    "output_path_3 = r\"出力パス３\""
   ]
  },
  {
   "cell_type": "code",
   "execution_count": null,
   "id": "d6e0fef8-9938-4eca-b278-7dc8919b72e8",
   "metadata": {},
   "outputs": [],
   "source": [
    "#質量×体積（密度）\n",
    "sigma0 = MV(\n",
    "    input_path = input_path,\n",
    "    output_path = output_path_1\n",
    "  )[1]\n",
    "sigma0"
   ]
  },
  {
   "cell_type": "code",
   "execution_count": null,
   "id": "8c49e56b-e8f2-4d02-a6b0-0e9f14e45cd5",
   "metadata": {},
   "outputs": [],
   "source": [
    "#体積×表面積\n",
    "val_Vx = Vx(\n",
    "    input_path = input_path,\n",
    "    output_path = output_path_2\n",
    ")\n",
    "a_Vx, b_Vx = val[1], val[2]\n",
    "a_Vx, b_Vx"
   ]
  },
  {
   "cell_type": "code",
   "execution_count": null,
   "id": "0db296f5-6e98-4018-942d-b68ad86ed820",
   "metadata": {},
   "outputs": [],
   "source": [
    "#質量×表面積\n",
    "val = Mx(\n",
    "    input_path = input_path,\n",
    "    output_path1 = output_path_1,\n",
    "    output_path2 = output_path_2,\n",
    "    output_path3 = output_path_3,\n",
    "  )\n",
    "a, b = val[1], val[2]\n",
    "a, b"
   ]
  },
  {
   "cell_type": "code",
   "execution_count": null,
   "id": "c6eafb4a-4fdf-41ff-ad62-9122e0102613",
   "metadata": {},
   "outputs": [],
   "source": []
  }
 ],
 "metadata": {
  "kernelspec": {
   "display_name": "Python 3 (ipykernel)",
   "language": "python",
   "name": "python3"
  },
  "language_info": {
   "codemirror_mode": {
    "name": "ipython",
    "version": 3
   },
   "file_extension": ".py",
   "mimetype": "text/x-python",
   "name": "python",
   "nbconvert_exporter": "python",
   "pygments_lexer": "ipython3",
   "version": "3.11.9"
  }
 },
 "nbformat": 4,
 "nbformat_minor": 5
}
